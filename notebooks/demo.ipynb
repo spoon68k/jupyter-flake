{
 "cells": [
  {
   "cell_type": "code",
   "execution_count": 2,
   "id": "7d0bda37-75c5-46bb-ae27-226c0b8d3f04",
   "metadata": {},
   "outputs": [],
   "source": [
    "def fib(n):\n",
    "    if n == 1 or n == 2:\n",
    "        return n-1\n",
    "    else:\n",
    "        return fib(n-1) + fib(n-2)"
   ]
  },
  {
   "cell_type": "code",
   "execution_count": 5,
   "id": "07875270-01b6-42cb-99ec-c2e678811222",
   "metadata": {},
   "outputs": [
    {
     "name": "stdout",
     "output_type": "stream",
     "text": [
      "fibonacci(1) = 0\n",
      "fibonacci(2) = 1\n",
      "fibonacci(3) = 1\n",
      "fibonacci(4) = 2\n",
      "fibonacci(5) = 3\n",
      "fibonacci(6) = 5\n",
      "fibonacci(7) = 8\n",
      "fibonacci(8) = 13\n",
      "fibonacci(9) = 21\n",
      "fibonacci(10) = 34\n"
     ]
    }
   ],
   "source": [
    "for i in range(1, 11):\n",
    "    print(f\"fibonacci({i}) = {fib(i)}\")"
   ]
  }
 ],
 "metadata": {
  "kernelspec": {
   "display_name": "Python 3 (ipykernel)",
   "language": "python",
   "name": "python3"
  },
  "language_info": {
   "codemirror_mode": {
    "name": "ipython",
    "version": 3
   },
   "file_extension": ".py",
   "mimetype": "text/x-python",
   "name": "python",
   "nbconvert_exporter": "python",
   "pygments_lexer": "ipython3",
   "version": "3.11.3"
  }
 },
 "nbformat": 4,
 "nbformat_minor": 5
}
